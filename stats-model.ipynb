{
 "cells": [
  {
   "cell_type": "code",
   "execution_count": 16,
   "id": "initial_id",
   "metadata": {
    "collapsed": true,
    "ExecuteTime": {
     "end_time": "2023-11-11T22:25:22.196153100Z",
     "start_time": "2023-11-11T22:25:22.180152500Z"
    }
   },
   "outputs": [],
   "source": [
    "import pandas as pd\n",
    "import numpy as np\n",
    "import seaborn as sns\n",
    "import statsmodels.api as sm\n",
    "from sklearn.model_selection import train_test_split\n",
    "from sklearn.preprocessing import StandardScaler\n",
    "\n",
    "df = pd.read_csv('data/Lijn 1 laaste 12 maanden.csv')"
   ]
  },
  {
   "cell_type": "code",
   "execution_count": 17,
   "outputs": [
    {
     "data": {
      "text/plain": "               DateTime  EL04_Process_Recipe_Working.MESQuality.Density_Max  \\\n0  11/1/2022 3:38:15 PM                                                472    \n1  11/1/2022 3:53:15 PM                                                488    \n2  11/1/2022 4:08:15 PM                                                488    \n3  11/1/2022 4:23:15 PM                                                488    \n4  11/1/2022 4:38:15 PM                                                488    \n\n   EL04_Process_Recipe_Working.MESQuality.Density_Min  \\\n0                                                408    \n1                                                424    \n2                                                424    \n3                                                424    \n4                                                424    \n\n   EL04_Process_Recipe_Working.MESQuality.Density_Target  \\\n0                                                440       \n1                                                456       \n2                                                456       \n3                                                456       \n4                                                456       \n\n   EL04_Dry_Feed_Rate_PID.OUT  EL04_Dry_Feed_Rate_PID.PV  \\\n0                   40.103806                6995.532227   \n1                   40.182373                7022.826660   \n2                   39.949310                7024.142090   \n3                   40.241974                6956.403320   \n4                   40.274620                7009.181641   \n\n   EL04_Dry_Feed_Rate_PID.SP  \n0                       7000  \n1                       7000  \n2                       7000  \n3                       7000  \n4                       7000  ",
      "text/html": "<div>\n<style scoped>\n    .dataframe tbody tr th:only-of-type {\n        vertical-align: middle;\n    }\n\n    .dataframe tbody tr th {\n        vertical-align: top;\n    }\n\n    .dataframe thead th {\n        text-align: right;\n    }\n</style>\n<table border=\"1\" class=\"dataframe\">\n  <thead>\n    <tr style=\"text-align: right;\">\n      <th></th>\n      <th>DateTime</th>\n      <th>EL04_Process_Recipe_Working.MESQuality.Density_Max</th>\n      <th>EL04_Process_Recipe_Working.MESQuality.Density_Min</th>\n      <th>EL04_Process_Recipe_Working.MESQuality.Density_Target</th>\n      <th>EL04_Dry_Feed_Rate_PID.OUT</th>\n      <th>EL04_Dry_Feed_Rate_PID.PV</th>\n      <th>EL04_Dry_Feed_Rate_PID.SP</th>\n    </tr>\n  </thead>\n  <tbody>\n    <tr>\n      <th>0</th>\n      <td>11/1/2022 3:38:15 PM</td>\n      <td>472</td>\n      <td>408</td>\n      <td>440</td>\n      <td>40.103806</td>\n      <td>6995.532227</td>\n      <td>7000</td>\n    </tr>\n    <tr>\n      <th>1</th>\n      <td>11/1/2022 3:53:15 PM</td>\n      <td>488</td>\n      <td>424</td>\n      <td>456</td>\n      <td>40.182373</td>\n      <td>7022.826660</td>\n      <td>7000</td>\n    </tr>\n    <tr>\n      <th>2</th>\n      <td>11/1/2022 4:08:15 PM</td>\n      <td>488</td>\n      <td>424</td>\n      <td>456</td>\n      <td>39.949310</td>\n      <td>7024.142090</td>\n      <td>7000</td>\n    </tr>\n    <tr>\n      <th>3</th>\n      <td>11/1/2022 4:23:15 PM</td>\n      <td>488</td>\n      <td>424</td>\n      <td>456</td>\n      <td>40.241974</td>\n      <td>6956.403320</td>\n      <td>7000</td>\n    </tr>\n    <tr>\n      <th>4</th>\n      <td>11/1/2022 4:38:15 PM</td>\n      <td>488</td>\n      <td>424</td>\n      <td>456</td>\n      <td>40.274620</td>\n      <td>7009.181641</td>\n      <td>7000</td>\n    </tr>\n  </tbody>\n</table>\n</div>"
     },
     "execution_count": 17,
     "metadata": {},
     "output_type": "execute_result"
    }
   ],
   "source": [
    "df.head()"
   ],
   "metadata": {
    "collapsed": false,
    "ExecuteTime": {
     "end_time": "2023-11-11T22:25:22.226150200Z",
     "start_time": "2023-11-11T22:25:22.200152900Z"
    }
   },
   "id": "b61cf284a44b7bd2"
  },
  {
   "cell_type": "code",
   "execution_count": 18,
   "outputs": [],
   "source": [
    "features = [\n",
    "    'EL04_Process_Recipe_Working.MESQuality.Density_Target',\n",
    "    'EL04_Dry_Feed_Rate_PID.SP',\n",
    "    'EL04_Dry_Feed_Rate_PID.PV'\n",
    "]\n",
    "\n",
    "X = sm.add_constant(df[features])  # Adding a constant for the intercept\n",
    "y = df['EL04_Dry_Feed_Rate_PID.OUT']\n",
    "\n",
    "# Data preprocessing\n",
    "scaler = StandardScaler()\n",
    "features_scaled = scaler.fit_transform(df[features])  # Fix the DataFrame reference\n",
    "\n",
    "# Split the data\n",
    "X_train, X_test, y_train, y_test = train_test_split(X, y, test_size=0.2, random_state=2023)"
   ],
   "metadata": {
    "collapsed": false,
    "ExecuteTime": {
     "end_time": "2023-11-11T22:25:22.257254600Z",
     "start_time": "2023-11-11T22:25:22.212149400Z"
    }
   },
   "id": "87fed515b9554e62"
  },
  {
   "cell_type": "code",
   "execution_count": 19,
   "outputs": [
    {
     "name": "stdout",
     "output_type": "stream",
     "text": [
      "All validation r2:  [0.893, 0.897, 0.885, 0.893, 0.894]\n",
      "Cross Val R2s: 0.892 +- 0.004 \n",
      "All validation MAEs:  [2.583, 2.483, 2.582, 2.509, 2.453]\n",
      "Cross Val MAEs: 2.522 +- 0.052 \n"
     ]
    }
   ],
   "source": [
    "from sklearn.model_selection import KFold\n",
    "from sklearn.metrics import r2_score as r2\n",
    "from sklearn.metrics import mean_absolute_error as mae\n",
    "\n",
    "kf = KFold(n_splits=5,shuffle=True, random_state=2024)\n",
    "\n",
    "#create a list to store validation scores for each fold\n",
    "\n",
    "cv_lm_r2s = []\n",
    "cv_lm_mae = []\n",
    "\n",
    "#loop through each fold in x and y\\\n",
    "for train_ind, val_ind in kf.split(X,y):\n",
    "    #Subset data based on CV folds\n",
    "    X_train, y_train = X.iloc[train_ind], y.iloc[train_ind]\n",
    "    X_val, y_val = X.iloc[val_ind], y.iloc[val_ind]\n",
    "    #fit the model on folds training data\n",
    "    model = sm.OLS(y_train, X_train).fit()\n",
    "    #append Validation score to list\n",
    "    cv_lm_r2s.append(r2(y_val, model.predict(X_val),))\n",
    "    cv_lm_mae.append(mae(y_val, model.predict(X_val),))\n",
    "    \n",
    "print(\"All validation r2: \",[round(x,3 ) for x in cv_lm_r2s])   \n",
    "print(f\"Cross Val R2s: {round(np.mean(cv_lm_r2s), 3)} +- {round(np.std(cv_lm_r2s), 3)} \")\n",
    "\n",
    "print(\"All validation MAEs: \",[round(x,3 ) for x in cv_lm_mae])   \n",
    "print(f\"Cross Val MAEs: {round(np.mean(cv_lm_mae), 3)} +- {round(np.std(cv_lm_mae), 3)} \")\n",
    "    "
   ],
   "metadata": {
    "collapsed": false,
    "ExecuteTime": {
     "end_time": "2023-11-11T22:25:22.319250300Z",
     "start_time": "2023-11-11T22:25:22.230150Z"
    }
   },
   "id": "b32e42e8143061aa"
  },
  {
   "cell_type": "code",
   "execution_count": 20,
   "outputs": [
    {
     "name": "stdout",
     "output_type": "stream",
     "text": [
      "Test r2:0.8910155957525681\n",
      "Test r2:2.4971119078304302\n"
     ]
    }
   ],
   "source": [
    "model = sm.OLS(y,X).fit()\n",
    "\n",
    "print(f\"Test r2:{r2(y_test,model.predict(X_test))}\")\n",
    "print(f\"Test r2:{mae(y_test,model.predict(X_test))}\")"
   ],
   "metadata": {
    "collapsed": false,
    "ExecuteTime": {
     "end_time": "2023-11-11T22:25:22.333252200Z",
     "start_time": "2023-11-11T22:25:22.260254700Z"
    }
   },
   "id": "c94d5125739a741e"
  },
  {
   "cell_type": "code",
   "execution_count": 21,
   "outputs": [
    {
     "name": "stdout",
     "output_type": "stream",
     "text": [
      "                                OLS Regression Results                                \n",
      "======================================================================================\n",
      "Dep. Variable:     EL04_Dry_Feed_Rate_PID.OUT   R-squared:                       0.892\n",
      "Model:                                    OLS   Adj. R-squared:                  0.892\n",
      "Method:                         Least Squares   F-statistic:                 3.787e+04\n",
      "Date:                        Sat, 11 Nov 2023   Prob (F-statistic):               0.00\n",
      "Time:                                23:25:22   Log-Likelihood:                -35111.\n",
      "No. Observations:                       13714   AIC:                         7.023e+04\n",
      "Df Residuals:                           13710   BIC:                         7.026e+04\n",
      "Df Model:                                   3                                         \n",
      "Covariance Type:                    nonrobust                                         \n",
      "=========================================================================================================================\n",
      "                                                            coef    std err          t      P>|t|      [0.025      0.975]\n",
      "-------------------------------------------------------------------------------------------------------------------------\n",
      "const                                                     2.0187      0.332      6.087      0.000       1.369       2.669\n",
      "EL04_Process_Recipe_Working.MESQuality.Density_Target    -0.0130      0.001    -20.074      0.000      -0.014      -0.012\n",
      "EL04_Dry_Feed_Rate_PID.SP                                 0.0075      0.000     15.256      0.000       0.007       0.009\n",
      "EL04_Dry_Feed_Rate_PID.PV                                -0.0009      0.000     -1.917      0.055      -0.002    2.13e-05\n",
      "==============================================================================\n",
      "Omnibus:                      317.284   Durbin-Watson:                   0.061\n",
      "Prob(Omnibus):                  0.000   Jarque-Bera (JB):              339.165\n",
      "Skew:                           0.384   Prob(JB):                     2.25e-74\n",
      "Kurtosis:                       2.941   Cond. No.                     1.44e+05\n",
      "==============================================================================\n",
      "\n",
      "Notes:\n",
      "[1] Standard Errors assume that the covariance matrix of the errors is correctly specified.\n",
      "[2] The condition number is large, 1.44e+05. This might indicate that there are\n",
      "strong multicollinearity or other numerical problems.\n"
     ]
    }
   ],
   "source": [
    "model.summary()\n",
    "\n",
    "summary_str = str(model.summary())\n",
    "print(summary_str)"
   ],
   "metadata": {
    "collapsed": false,
    "ExecuteTime": {
     "end_time": "2023-11-11T22:25:22.334251600Z",
     "start_time": "2023-11-11T22:25:22.275255500Z"
    }
   },
   "id": "1f28befa30ff7e5"
  },
  {
   "cell_type": "code",
   "execution_count": 22,
   "outputs": [
    {
     "data": {
      "text/plain": "0.8910155957525681"
     },
     "execution_count": 22,
     "metadata": {},
     "output_type": "execute_result"
    }
   ],
   "source": [
    "from sklearn.metrics import r2_score as r2\n",
    "\n",
    "r2(y_test, model.predict((X_test)))\n"
   ],
   "metadata": {
    "collapsed": false,
    "ExecuteTime": {
     "end_time": "2023-11-11T22:25:22.335251100Z",
     "start_time": "2023-11-11T22:25:22.291254700Z"
    }
   },
   "id": "d31adb01e2b13866"
  }
 ],
 "metadata": {
  "kernelspec": {
   "display_name": "Python 3",
   "language": "python",
   "name": "python3"
  },
  "language_info": {
   "codemirror_mode": {
    "name": "ipython",
    "version": 2
   },
   "file_extension": ".py",
   "mimetype": "text/x-python",
   "name": "python",
   "nbconvert_exporter": "python",
   "pygments_lexer": "ipython2",
   "version": "2.7.6"
  }
 },
 "nbformat": 4,
 "nbformat_minor": 5
}
