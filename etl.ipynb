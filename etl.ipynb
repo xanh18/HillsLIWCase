{
 "cells": [
  {
   "cell_type": "code",
   "execution_count": 52,
   "id": "initial_id",
   "metadata": {
    "ExecuteTime": {
     "end_time": "2023-11-08T14:03:30.369993600Z",
     "start_time": "2023-11-08T14:03:29.915993900Z"
    },
    "collapsed": true
   },
   "outputs": [],
   "source": [
    "import pandas as pd\n",
    "import os"
   ]
  },
  {
   "cell_type": "code",
   "execution_count": 53,
   "id": "2e636a435d0c2143",
   "metadata": {
    "ExecuteTime": {
     "end_time": "2023-11-08T14:00:13.021776600Z",
     "start_time": "2023-11-08T14:00:12.990778500Z"
    },
    "collapsed": false
   },
   "outputs": [],
   "source": [
    "\n",
    "inputs = [\n",
    "\t\"data/Lijn 1 laaste 12 maanden.csv\",\n",
    "\t\"data/Lijn 2 laatste 12 maanden.csv\",\n",
    "\t\"data/Lijn 3 laatste 12 maanden.csv\"\n",
    "]\n",
    "\n",
    "def column_mapper(column):\n",
    "\tparts = column.split('.')\n",
    "\treturn parts[len(parts)-1]\n",
    "\n",
    "def add_input(line, path, output): \n",
    "\tdf = pd.read_csv(path)\n",
    "\t\n",
    "\t# Rename the column names\n",
    "\tdf = df.rename(columns = column_mapper)\n",
    "\n",
    "\tline_col_name = \"Line {}\".format(line)\n",
    "\tdf[line_col_name] = 1\n",
    "\toutput = pd.concat([df, output])\n",
    "\treturn output\n",
    "\n",
    "output = pd.DataFrame()\n",
    "for i in range(len(inputs)):\n",
    "\toutput = add_input(i+1, inputs[i], output)\n",
    "\n",
    "for i in range(len(inputs)):\n",
    "\tline_col_name = \"Line {}\".format(i+1)\n",
    "\toutput[line_col_name] = output[line_col_name].fillna(0)\n",
    "\toutput[line_col_name] = output[line_col_name].astype(int)\n",
    "\n",
    "output = output.drop(columns=[\"DateTime\", \"Density_Max\", \"Density_Min\", \"PV\"])"
   ]
  },
  {
   "cell_type": "code",
   "execution_count": 54,
   "metadata": {},
   "outputs": [],
   "source": [
    "\n",
    "if (os.path.exists(\"out\") == False):\n",
    "\tos.mkdir(\"out\")\n",
    "\n",
    "output = output.rename({\n",
    "\t\"SP\": \"Dry_Feed_Rate_PID.SP\",\n",
    "\t\"OUT\": \"Dry_Feed_Rate_PID.OUT\",\n",
    "}, axis=1)\n",
    "\n",
    "#output['Line 1'] = output['Line 1'].astype(int) \n",
    "\n",
    "output.to_csv(\"out/etl.csv\", index=False, sep=\";\", decimal=\",\")"
   ]
  }
 ],
 "metadata": {
  "kernelspec": {
   "display_name": "Python 3",
   "language": "python",
   "name": "python3"
  },
  "language_info": {
   "codemirror_mode": {
    "name": "ipython",
    "version": 3
   },
   "file_extension": ".py",
   "mimetype": "text/x-python",
   "name": "python",
   "nbconvert_exporter": "python",
   "pygments_lexer": "ipython3",
   "version": "3.10.5"
  }
 },
 "nbformat": 4,
 "nbformat_minor": 5
}
