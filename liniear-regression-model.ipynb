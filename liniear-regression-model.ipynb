{
 "cells": [
  {
   "cell_type": "code",
   "execution_count": 5,
   "id": "initial_id",
   "metadata": {
    "collapsed": true,
    "ExecuteTime": {
     "end_time": "2023-11-10T17:37:39.536327900Z",
     "start_time": "2023-11-10T17:37:39.526326600Z"
    }
   },
   "outputs": [],
   "source": [
    "import pandas as pd\n",
    "from sklearn.model_selection import train_test_split\n",
    "from sklearn.linear_model import LinearRegression\n",
    "from sklearn.metrics import mean_squared_error, r2_score\n",
    "from sklearn.preprocessing import StandardScaler"
   ]
  },
  {
   "cell_type": "code",
   "execution_count": 6,
   "outputs": [
    {
     "name": "stdout",
     "output_type": "stream",
     "text": [
      "Mean Squared Error (MSE): 4052.8470545926934\n",
      "R-squared (R2): 0.9977616720814801\n",
      "\n",
      "Model Coefficients:\n",
      "EL04_Process_Recipe_Working.MESQuality.Density_Max: -63450485785349.875\n",
      "EL04_Process_Recipe_Working.MESQuality.Density_Min: 31576339934964.25\n",
      "EL04_Process_Recipe_Working.MESQuality.Density_Target: 31874145850387.0\n",
      "EL04_Dry_Feed_Rate_PID.OUT: 20.65087890625\n",
      "EL04_Dry_Feed_Rate_PID.PV: 1342.7098388671875\n",
      "\n",
      "Intercept: 8103.988296471154\n"
     ]
    }
   ],
   "source": [
    "# Load the dataset\n",
    "data = pd.read_csv('data/Lijn 1 laaste 12 maanden.csv')\n",
    "\n",
    "# Feature selection\n",
    "features = data[['EL04_Process_Recipe_Working.MESQuality.Density_Max',\n",
    "                 'EL04_Process_Recipe_Working.MESQuality.Density_Min',\n",
    "                 'EL04_Process_Recipe_Working.MESQuality.Density_Target',\n",
    "                 'EL04_Dry_Feed_Rate_PID.OUT',\n",
    "                 'EL04_Dry_Feed_Rate_PID.PV']]\n",
    "\n",
    "# Target variable\n",
    "target = data['EL04_Dry_Feed_Rate_PID.SP']\n",
    "\n",
    "# Data preprocessing\n",
    "scaler = StandardScaler()\n",
    "features_scaled = scaler.fit_transform(features)\n",
    "\n",
    "# Split the data\n",
    "X_train, X_test, y_train, y_test = train_test_split(features_scaled, target, test_size=0.2, random_state=42)\n",
    "\n",
    "# Create and train the linear regression model\n",
    "model = LinearRegression()\n",
    "model.fit(X_train, y_train)\n",
    "\n",
    "# Make predictions\n",
    "predictions = model.predict(X_test)\n",
    "\n",
    "# Evaluate the model\n",
    "mse = mean_squared_error(y_test, predictions)\n",
    "r2 = r2_score(y_test, predictions)\n",
    "\n",
    "print(f'Mean Squared Error (MSE): {mse}')\n",
    "print(f'R-squared (R2): {r2}')\n",
    "\n",
    "# Coefficients and intercept\n",
    "coefficients = model.coef_\n",
    "intercept = model.intercept_\n",
    "\n",
    "print('\\nModel Coefficients:')\n",
    "for feature, coef in zip(features.columns, coefficients):\n",
    "    print(f'{feature}: {coef}')\n",
    "\n",
    "print(f'\\nIntercept: {intercept}')"
   ],
   "metadata": {
    "collapsed": false,
    "ExecuteTime": {
     "end_time": "2023-11-10T17:37:39.566326800Z",
     "start_time": "2023-11-10T17:37:39.536327900Z"
    }
   },
   "id": "94a6cd28556f5535"
  }
 ],
 "metadata": {
  "kernelspec": {
   "display_name": "Python 3",
   "language": "python",
   "name": "python3"
  },
  "language_info": {
   "codemirror_mode": {
    "name": "ipython",
    "version": 2
   },
   "file_extension": ".py",
   "mimetype": "text/x-python",
   "name": "python",
   "nbconvert_exporter": "python",
   "pygments_lexer": "ipython2",
   "version": "2.7.6"
  }
 },
 "nbformat": 4,
 "nbformat_minor": 5
}
