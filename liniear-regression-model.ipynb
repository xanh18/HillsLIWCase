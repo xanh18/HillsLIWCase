{
 "cells": [
  {
   "cell_type": "code",
   "execution_count": 3,
   "id": "initial_id",
   "metadata": {
    "collapsed": true,
    "ExecuteTime": {
     "end_time": "2023-11-11T13:54:09.346007200Z",
     "start_time": "2023-11-11T13:54:09.329007400Z"
    }
   },
   "outputs": [],
   "source": [
    "import pandas as pd\n",
    "from sklearn.model_selection import train_test_split\n",
    "from sklearn.linear_model import LinearRegression\n",
    "from sklearn.metrics import mean_squared_error, r2_score\n",
    "from sklearn.preprocessing import StandardScaler"
   ]
  },
  {
   "cell_type": "code",
   "execution_count": 4,
   "outputs": [
    {
     "data": {
      "text/plain": "array([ 7.40727719e+12, -3.70893183e+12, -3.69834535e+12,  1.12796783e+01,\n       -2.31681824e+00])"
     },
     "execution_count": 4,
     "metadata": {},
     "output_type": "execute_result"
    }
   ],
   "source": [
    "# Load the dataset\n",
    "data = pd.read_csv('data/Lijn 1 laaste 12 maanden.csv')\n",
    "\n",
    "# Feature selection\n",
    "features = data[['EL04_Process_Recipe_Working.MESQuality.Density_Max',\n",
    "                 'EL04_Process_Recipe_Working.MESQuality.Density_Min',\n",
    "                 'EL04_Process_Recipe_Working.MESQuality.Density_Target',\n",
    "                 'EL04_Dry_Feed_Rate_PID.SP',\n",
    "                 'EL04_Dry_Feed_Rate_PID.PV']]\n",
    "\n",
    "# Target variable\n",
    "target = data['EL04_Dry_Feed_Rate_PID.OUT']\n",
    "\n",
    "# Data preprocessing\n",
    "scaler = StandardScaler()\n",
    "features_scaled = scaler.fit_transform(features)\n",
    "\n",
    "# Split the data\n",
    "X_train, X_test, y_train, y_test = train_test_split(features_scaled, target, test_size=0.2, random_state=42)\n",
    "\n",
    "# Create and train the linear regression model\n",
    "model = LinearRegression()\n",
    "model.fit(X_train, y_train)\n",
    "\n",
    "model.coef_\n"
   ],
   "metadata": {
    "collapsed": false,
    "ExecuteTime": {
     "end_time": "2023-11-11T13:54:09.376007400Z",
     "start_time": "2023-11-11T13:54:09.348007100Z"
    }
   },
   "id": "94a6cd28556f5535"
  },
  {
   "cell_type": "code",
   "execution_count": 5,
   "outputs": [
    {
     "name": "stdout",
     "output_type": "stream",
     "text": [
      "Mean Squared Error (MSE): 9.373244136853629\n",
      "R-squared (R2): 0.8958197006719515\n",
      "\n",
      "Model Coefficients:\n",
      "EL04_Process_Recipe_Working.MESQuality.Density_Max: 7407277187725.0205\n",
      "EL04_Process_Recipe_Working.MESQuality.Density_Min: -3708931834658.619\n",
      "EL04_Process_Recipe_Working.MESQuality.Density_Target: -3698345353066.903\n",
      "EL04_Dry_Feed_Rate_PID.SP: 11.279678344726562\n",
      "EL04_Dry_Feed_Rate_PID.PV: -2.3168182373046875\n",
      "\n",
      "Intercept: 49.686213920901075\n"
     ]
    }
   ],
   "source": [
    "# Make predictions\n",
    "predictions = model.predict(X_test)\n",
    "\n",
    "# Evaluate the model\n",
    "mse = mean_squared_error(y_test, predictions)\n",
    "r2 = r2_score(y_test, predictions)\n",
    "\n",
    "print(f'Mean Squared Error (MSE): {mse}')\n",
    "print(f'R-squared (R2): {r2}')\n",
    "\n",
    "# Coefficients and intercept\n",
    "coefficients = model.coef_\n",
    "intercept = model.intercept_\n",
    "\n",
    "print('\\nModel Coefficients:')\n",
    "for feature, coef in zip(features.columns, coefficients):\n",
    "    print(f'{feature}: {coef}')\n",
    "\n",
    "print(f'\\nIntercept: {intercept}')"
   ],
   "metadata": {
    "collapsed": false,
    "ExecuteTime": {
     "end_time": "2023-11-11T13:54:09.392007300Z",
     "start_time": "2023-11-11T13:54:09.377007500Z"
    }
   },
   "id": "f00119f68c865b6a"
  },
  {
   "cell_type": "code",
   "execution_count": 5,
   "outputs": [],
   "source": [],
   "metadata": {
    "collapsed": false,
    "ExecuteTime": {
     "end_time": "2023-11-11T13:54:09.422007500Z",
     "start_time": "2023-11-11T13:54:09.393007900Z"
    }
   },
   "id": "b92e2bc5428cc25f"
  }
 ],
 "metadata": {
  "kernelspec": {
   "display_name": "Python 3",
   "language": "python",
   "name": "python3"
  },
  "language_info": {
   "codemirror_mode": {
    "name": "ipython",
    "version": 2
   },
   "file_extension": ".py",
   "mimetype": "text/x-python",
   "name": "python",
   "nbconvert_exporter": "python",
   "pygments_lexer": "ipython2",
   "version": "2.7.6"
  }
 },
 "nbformat": 4,
 "nbformat_minor": 5
}
