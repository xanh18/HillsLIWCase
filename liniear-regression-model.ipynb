{
 "cells": [
  {
   "cell_type": "code",
   "execution_count": 35,
   "id": "initial_id",
   "metadata": {
    "ExecuteTime": {
     "end_time": "2023-11-11T13:54:09.346007200Z",
     "start_time": "2023-11-11T13:54:09.329007400Z"
    },
    "collapsed": true
   },
   "outputs": [],
   "source": [
    "import os;\n",
    "import pandas as pd\n",
    "from sklearn.model_selection import train_test_split\n",
    "from sklearn.linear_model import LinearRegression\n",
    "from sklearn.metrics import mean_squared_error, r2_score\n",
    "from sklearn.preprocessing import StandardScaler\n",
    "import joblib"
   ]
  },
  {
   "cell_type": "code",
   "execution_count": 36,
   "id": "94a6cd28556f5535",
   "metadata": {
    "ExecuteTime": {
     "end_time": "2023-11-11T13:54:09.376007400Z",
     "start_time": "2023-11-11T13:54:09.348007100Z"
    },
    "collapsed": false
   },
   "outputs": [
    {
     "name": "stdout",
     "output_type": "stream",
     "text": [
      "Index(['Density_Target', 'Dry_Feed_Rate_PID.OUT', 'Dry_Feed_Rate_PID.SP',\n",
      "       'Line 3', 'Line 2', 'Line 1'],\n",
      "      dtype='object')\n"
     ]
    },
    {
     "data": {
      "text/plain": [
       "array([-1.66948285e+00,  7.26019755e+00,  6.11022823e+11,  6.14019852e+11,\n",
       "        6.11471931e+11])"
      ]
     },
     "execution_count": 36,
     "metadata": {},
     "output_type": "execute_result"
    }
   ],
   "source": [
    "# Load the dataset\n",
    "data = pd.read_csv('out/etl.csv', sep=\";\", decimal=\",\")\n",
    "\n",
    "# Feature selection\n",
    "features = data[[\n",
    "\t'Density_Target',\n",
    "\t'Dry_Feed_Rate_PID.SP',\n",
    "\t'Line 1',\n",
    "\t'Line 2',\n",
    "\t'Line 3'\n",
    "]]\n",
    "\n",
    "# Target variable\n",
    "target = data['Dry_Feed_Rate_PID.OUT']\n",
    "\n",
    "# Data preprocessing\n",
    "scaler = StandardScaler()\n",
    "features_scaled = scaler.fit_transform(features)\n",
    "\n",
    "# Split the data\n",
    "X_train, X_test, y_train, y_test = train_test_split(features_scaled, target, test_size=0.2, random_state=42)\n",
    "\n",
    "# Create and train the linear regression model\n",
    "model = LinearRegression()\n",
    "model.fit(X_train, y_train)\n",
    "\n",
    "model.coef_\n"
   ]
  },
  {
   "cell_type": "code",
   "execution_count": 37,
   "id": "f00119f68c865b6a",
   "metadata": {
    "ExecuteTime": {
     "end_time": "2023-11-11T13:54:09.392007300Z",
     "start_time": "2023-11-11T13:54:09.377007500Z"
    },
    "collapsed": false
   },
   "outputs": [
    {
     "name": "stdout",
     "output_type": "stream",
     "text": [
      "Mean Squared Error (MSE): 16.889585452089726\n",
      "R-squared (R2): 0.876910574031764\n",
      "\n",
      "Model Coefficients:\n",
      "Density_Target: -1.6694828549390124\n",
      "Dry_Feed_Rate_PID.SP: 7.260197551023229\n",
      "Line 1: 611022823142.8373\n",
      "Line 2: 614019852299.8972\n",
      "Line 3: 611471931128.7563\n",
      "\n",
      "Intercept: 47.56608093513517\n"
     ]
    }
   ],
   "source": [
    "# Make predictions\n",
    "predictions = model.predict(X_test)\n",
    "\n",
    "# Evaluate the model\n",
    "mse = mean_squared_error(y_test, predictions)\n",
    "r2 = r2_score(y_test, predictions)\n",
    "\n",
    "print(f'Mean Squared Error (MSE): {mse}')\n",
    "print(f'R-squared (R2): {r2}')\n",
    "\n",
    "# Coefficients and intercept\n",
    "coefficients = model.coef_\n",
    "intercept = model.intercept_\n",
    "\n",
    "print('\\nModel Coefficients:')\n",
    "for feature, coef in zip(features.columns, coefficients):\n",
    "    print(f'{feature}: {coef}')\n",
    "\n",
    "print(f'\\nIntercept: {intercept}')"
   ]
  },
  {
   "cell_type": "code",
   "execution_count": 38,
   "id": "b92e2bc5428cc25f",
   "metadata": {
    "ExecuteTime": {
     "end_time": "2023-11-11T13:54:09.422007500Z",
     "start_time": "2023-11-11T13:54:09.393007900Z"
    },
    "collapsed": false
   },
   "outputs": [
    {
     "data": {
      "text/plain": [
       "['out/trained_model.pkl']"
      ]
     },
     "execution_count": 38,
     "metadata": {},
     "output_type": "execute_result"
    }
   ],
   "source": [
    "if (os.path.exists(\"out\") == False):\n",
    "\tos.mkdir(\"out\")\n",
    "\n",
    "joblib.dump(scaler, 'out/scaler.pkl')\n",
    "joblib.dump(model, 'out/trained_model.pkl')"
   ]
  }
 ],
 "metadata": {
  "kernelspec": {
   "display_name": "Python 3",
   "language": "python",
   "name": "python3"
  },
  "language_info": {
   "codemirror_mode": {
    "name": "ipython",
    "version": 3
   },
   "file_extension": ".py",
   "mimetype": "text/x-python",
   "name": "python",
   "nbconvert_exporter": "python",
   "pygments_lexer": "ipython3",
   "version": "3.10.5"
  }
 },
 "nbformat": 4,
 "nbformat_minor": 5
}
