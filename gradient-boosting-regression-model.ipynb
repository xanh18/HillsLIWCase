{
 "cells": [
  {
   "cell_type": "code",
   "execution_count": 8,
   "id": "initial_id",
   "metadata": {
    "collapsed": true,
    "ExecuteTime": {
     "end_time": "2023-11-10T17:34:31.040919600Z",
     "start_time": "2023-11-10T17:34:31.022921300Z"
    }
   },
   "outputs": [],
   "source": [
    "import pandas as pd\n",
    "from sklearn.model_selection import train_test_split\n",
    "from sklearn.ensemble import GradientBoostingRegressor\n",
    "from sklearn.metrics import mean_squared_error\n",
    "from sklearn.preprocessing import StandardScaler"
   ]
  },
  {
   "cell_type": "code",
   "execution_count": 9,
   "outputs": [
    {
     "name": "stdout",
     "output_type": "stream",
     "text": [
      "Mean Squared Error: 2248.062010863558\n"
     ]
    }
   ],
   "source": [
    "# Load the dataset\n",
    "data = pd.read_csv('data/Lijn 1 laaste 12 maanden.csv')\n",
    "\n",
    "# Feature selection (use relevant features)\n",
    "features = data[['EL04_Process_Recipe_Working.MESQuality.Density_Max',\n",
    "                 'EL04_Process_Recipe_Working.MESQuality.Density_Min',\n",
    "                 'EL04_Process_Recipe_Working.MESQuality.Density_Target',\n",
    "                 'EL04_Dry_Feed_Rate_PID.OUT',\n",
    "                 'EL04_Dry_Feed_Rate_PID.PV']]\n",
    "\n",
    "# Target variable\n",
    "target = data['EL04_Dry_Feed_Rate_PID.SP']\n",
    "\n",
    "# Data preprocessing\n",
    "scaler = StandardScaler()\n",
    "features_scaled = scaler.fit_transform(features)\n",
    "\n",
    "# Split the data\n",
    "X_train, X_test, y_train, y_test = train_test_split(features_scaled, target, test_size=0.2, random_state=42)\n",
    "\n",
    "# Create and train the model\n",
    "model = GradientBoostingRegressor()\n",
    "model.fit(X_train, y_train)\n",
    "\n",
    "# Make predictions\n",
    "predictions = model.predict(X_test)\n",
    "\n",
    "# Evaluate the model\n",
    "mse = mean_squared_error(y_test, predictions)\n",
    "print(f'Mean Squared Error: {mse}')"
   ],
   "metadata": {
    "collapsed": false,
    "ExecuteTime": {
     "end_time": "2023-11-10T17:34:32.276920900Z",
     "start_time": "2023-11-10T17:34:31.042920900Z"
    }
   },
   "id": "cc3045f016f51dd5"
  },
  {
   "cell_type": "code",
   "execution_count": 9,
   "outputs": [],
   "source": [],
   "metadata": {
    "collapsed": false,
    "ExecuteTime": {
     "end_time": "2023-11-10T17:34:32.291920800Z",
     "start_time": "2023-11-10T17:34:32.276920900Z"
    }
   },
   "id": "524ef7e0046bcc3c"
  }
 ],
 "metadata": {
  "kernelspec": {
   "display_name": "Python 3",
   "language": "python",
   "name": "python3"
  },
  "language_info": {
   "codemirror_mode": {
    "name": "ipython",
    "version": 2
   },
   "file_extension": ".py",
   "mimetype": "text/x-python",
   "name": "python",
   "nbconvert_exporter": "python",
   "pygments_lexer": "ipython2",
   "version": "2.7.6"
  }
 },
 "nbformat": 4,
 "nbformat_minor": 5
}
