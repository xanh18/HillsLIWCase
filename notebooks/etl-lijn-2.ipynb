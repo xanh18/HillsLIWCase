{
 "cells": [
  {
   "cell_type": "code",
   "execution_count": 100,
   "id": "initial_id",
   "metadata": {
    "collapsed": true,
    "ExecuteTime": {
     "end_time": "2023-12-02T11:18:12.987810700Z",
     "start_time": "2023-12-02T11:18:12.965810300Z"
    }
   },
   "outputs": [],
   "source": [
    "import pandas as pd\n",
    "import matplotlib.pyplot as plt\n",
    "from datetime import datetime"
   ]
  },
  {
   "cell_type": "code",
   "execution_count": 111,
   "outputs": [
    {
     "name": "stderr",
     "output_type": "stream",
     "text": [
      "C:\\Users\\Xanh\\AppData\\Local\\Temp\\ipykernel_7772\\3725924750.py:4: FutureWarning: The argument 'infer_datetime_format' is deprecated and will be removed in a future version. A strict version of it is now the default, see https://pandas.pydata.org/pdeps/0004-consistent-to-datetime-parsing.html. You can safely remove this argument.\n",
      "  data2 = pd.read_csv('../data/20231202 Lijn 1 settings definitief.csv', delimiter=';', parse_dates=['DateTime'], infer_datetime_format=True)\n",
      "C:\\Users\\Xanh\\AppData\\Local\\Temp\\ipykernel_7772\\3725924750.py:7: UserWarning: The argument 'infer_datetime_format' is deprecated and will be removed in a future version. A strict version of it is now the default, see https://pandas.pydata.org/pdeps/0004-consistent-to-datetime-parsing.html. You can safely remove this argument.\n",
      "  data2['DateTime'] = pd.to_datetime(data2['DateTime'], infer_datetime_format=True, errors='coerce')\n"
     ]
    },
    {
     "data": {
      "text/plain": "   MESQuality,Density_Max Extruder,AltBom  DietCode  Density_Min  \\\n0                     560          011-00  BK24086M          496   \n1                     472          011-00  BK24705M          408   \n2                     432          011-00  BK25036M          368   \n3                     432          021-00  BK25352M          368   \n4                     432          021-00  BK25529M          368   \n\n   Density_Target  OUT  PID,PV    SP     ISO8601_DateTime  \n0             528   54    9000  9000  2023-12-02T12:00:00  \n1             440   38    7000  7000  2023-12-02T12:00:00  \n2             400   61    9500  9500  2023-12-02T12:00:00  \n3             400   48    7700  7700  2023-12-02T12:00:00  \n4             400   55    8000  8000  2023-12-02T12:00:00  ",
      "text/html": "<div>\n<style scoped>\n    .dataframe tbody tr th:only-of-type {\n        vertical-align: middle;\n    }\n\n    .dataframe tbody tr th {\n        vertical-align: top;\n    }\n\n    .dataframe thead th {\n        text-align: right;\n    }\n</style>\n<table border=\"1\" class=\"dataframe\">\n  <thead>\n    <tr style=\"text-align: right;\">\n      <th></th>\n      <th>MESQuality,Density_Max</th>\n      <th>Extruder,AltBom</th>\n      <th>DietCode</th>\n      <th>Density_Min</th>\n      <th>Density_Target</th>\n      <th>OUT</th>\n      <th>PID,PV</th>\n      <th>SP</th>\n      <th>ISO8601_DateTime</th>\n    </tr>\n  </thead>\n  <tbody>\n    <tr>\n      <th>0</th>\n      <td>560</td>\n      <td>011-00</td>\n      <td>BK24086M</td>\n      <td>496</td>\n      <td>528</td>\n      <td>54</td>\n      <td>9000</td>\n      <td>9000</td>\n      <td>2023-12-02T12:00:00</td>\n    </tr>\n    <tr>\n      <th>1</th>\n      <td>472</td>\n      <td>011-00</td>\n      <td>BK24705M</td>\n      <td>408</td>\n      <td>440</td>\n      <td>38</td>\n      <td>7000</td>\n      <td>7000</td>\n      <td>2023-12-02T12:00:00</td>\n    </tr>\n    <tr>\n      <th>2</th>\n      <td>432</td>\n      <td>011-00</td>\n      <td>BK25036M</td>\n      <td>368</td>\n      <td>400</td>\n      <td>61</td>\n      <td>9500</td>\n      <td>9500</td>\n      <td>2023-12-02T12:00:00</td>\n    </tr>\n    <tr>\n      <th>3</th>\n      <td>432</td>\n      <td>021-00</td>\n      <td>BK25352M</td>\n      <td>368</td>\n      <td>400</td>\n      <td>48</td>\n      <td>7700</td>\n      <td>7700</td>\n      <td>2023-12-02T12:00:00</td>\n    </tr>\n    <tr>\n      <th>4</th>\n      <td>432</td>\n      <td>021-00</td>\n      <td>BK25529M</td>\n      <td>368</td>\n      <td>400</td>\n      <td>55</td>\n      <td>8000</td>\n      <td>8000</td>\n      <td>2023-12-02T12:00:00</td>\n    </tr>\n  </tbody>\n</table>\n</div>"
     },
     "execution_count": 111,
     "metadata": {},
     "output_type": "execute_result"
    }
   ],
   "source": [
    "# Convert 'DateTime' column to datetime format\n",
    "\n",
    "data = pd.read_csv('../data/20231202 Lijn 1 afgelopen maand sample per 5 seconden.csv', delimiter=';', parse_dates=['DateTime'], infer_datetime_format=True)\n",
    "\n",
    "# Replace comma with dot and convert 'OUT' column to numeric\n",
    "data['OUT'] = data['OUT'].str.replace(',', '.').astype(float)\n",
    "\n",
    "# Aggregate 'OUT' values on a daily basis\n",
    "data['Date'] = data['DateTime'].dt.date  # Extract date from DateTime\n",
    "daily_out = data.groupby('Date')['OUT'].mean()  # You can choose a different aggregation function (e.g., sum, median, etc.)\n",
    "\n",
    "# Plotting 'OUT' over time (daily)\n",
    "plt.figure(figsize=(10, 6))\n",
    "plt.plot(daily_out.index, daily_out.values, marker='o', linestyle='-')\n",
    "plt.title('Average OUT per Day')\n",
    "plt.xlabel('Date')\n",
    "plt.ylabel('Average OUT')\n",
    "plt.grid(True)\n",
    "plt.xticks(rotation=45)\n",
    "plt.tight_layout()\n",
    "plt.show()\n"
   ],
   "metadata": {
    "collapsed": false,
    "ExecuteTime": {
     "end_time": "2023-12-02T12:20:05.522982Z",
     "start_time": "2023-12-02T12:20:04.961982600Z"
    }
   },
   "id": "3b16b3862fc041ef"
  },
  {
   "cell_type": "code",
   "execution_count": 102,
   "outputs": [
    {
     "name": "stdout",
     "output_type": "stream",
     "text": [
      "Column: DateTime\n",
      "DateTime\n",
      "2023-11-06 09:43:16    1\n",
      "2023-11-23 09:43:26    1\n",
      "2023-11-23 09:42:26    1\n",
      "2023-11-23 09:42:31    1\n",
      "2023-11-23 09:42:36    1\n",
      "                      ..\n",
      "2023-11-15 00:15:26    1\n",
      "2023-11-15 00:15:31    1\n",
      "2023-11-15 00:15:36    1\n",
      "2023-11-15 00:15:41    1\n",
      "2023-12-01 19:50:16    1\n",
      "Name: count, Length: 244629, dtype: int64\n",
      "Number of unique values: 244629\n",
      "\n",
      "Column: MESQuality,Density_Max\n",
      "MESQuality,Density_Max\n",
      "464    71372\n",
      "488    58313\n",
      "416    23780\n",
      "560    20985\n",
      "448    20520\n",
      "472    19926\n",
      "432    18076\n",
      "408    11657\n",
      "Name: count, dtype: int64\n",
      "Number of unique values: 8\n",
      "\n",
      "Column: AltBom\n",
      "AltBom\n",
      "011-00    215065\n",
      "021-00     29564\n",
      "Name: count, dtype: int64\n",
      "Number of unique values: 2\n",
      "\n",
      "Column: DietCode\n",
      "DietCode\n",
      "BK27276M    23600\n",
      "BK34568M    20177\n",
      "BK27078M    16774\n",
      "BK27073M    14912\n",
      "BK28011M    12993\n",
      "BK32348M    11685\n",
      "BK25635M    10603\n",
      "BK25634M    10552\n",
      "BK34898M    10476\n",
      "BK24705M     9333\n",
      "BK32543M     9190\n",
      "BK29847M     8647\n",
      "BK34182M     8582\n",
      "BK25352M     8184\n",
      "BK33187M     8138\n",
      "BK32924M     7519\n",
      "BK25529M     5907\n",
      "BK32715M     4894\n",
      "BK34683M     4604\n",
      "BK27404M     4555\n",
      "BK25831M     4481\n",
      "BK34827M     4428\n",
      "BK27565M     4263\n",
      "BK34390M     4163\n",
      "BK25036M     3987\n",
      "BK24086M     3659\n",
      "BK34513M     3199\n",
      "BK28322M     2628\n",
      "BK33725M     2496\n",
      "Name: count, dtype: int64\n",
      "Number of unique values: 29\n",
      "\n",
      "Column: ProdOrderNum\n",
      "ProdOrderNum\n",
      "9871597    14401\n",
      "9871167     9486\n",
      "9869735     9063\n",
      "9870774     8582\n",
      "9871066     8184\n",
      "9871766     7518\n",
      "9871890     7260\n",
      "9871431     6617\n",
      "9870592     6596\n",
      "9869926     6515\n",
      "9869739     6119\n",
      "9870870     5907\n",
      "9870665     5849\n",
      "9869868     5776\n",
      "9871656     5758\n",
      "9871259     5733\n",
      "9871055     5449\n",
      "9871768     5400\n",
      "9870430     5356\n",
      "9871799     5247\n",
      "9870518     5170\n",
      "9869983     5152\n",
      "9870470     4956\n",
      "9871063     4894\n",
      "9870684     4708\n",
      "9869870     4708\n",
      "9870131     4604\n",
      "9871531     4555\n",
      "9871529     4481\n",
      "9869986     4428\n",
      "9871629     4377\n",
      "9871288     4357\n",
      "9869843     4263\n",
      "9870473     4184\n",
      "9869985     4163\n",
      "9870521     3997\n",
      "9871326     3987\n",
      "9871670     3954\n",
      "9870128     3939\n",
      "9869731     3659\n",
      "9871838     3522\n",
      "9871204     3432\n",
      "9869737     3199\n",
      "9871377     2628\n",
      "9871374     2496\n",
      "Name: count, dtype: int64\n",
      "Number of unique values: 45\n",
      "\n",
      "Column: Density_Min\n",
      "Density_Min\n",
      "400    71372\n",
      "424    58313\n",
      "352    23780\n",
      "496    20985\n",
      "384    20520\n",
      "408    19926\n",
      "368    18076\n",
      "344    11657\n",
      "Name: count, dtype: int64\n",
      "Number of unique values: 8\n",
      "\n",
      "Column: Target\n",
      "Target\n",
      "432    71372\n",
      "456    58313\n",
      "384    23780\n",
      "528    20985\n",
      "416    20520\n",
      "440    19926\n",
      "400    18076\n",
      "376    11657\n",
      "Name: count, dtype: int64\n",
      "Number of unique values: 8\n",
      "\n",
      "Column: OUT\n",
      "OUT\n",
      "0.000000     2624\n",
      "25.000000    1121\n",
      "40.636486      87\n",
      "55.436687      79\n",
      "48.935600      76\n",
      "             ... \n",
      "39.138256       1\n",
      "39.218071       1\n",
      "38.995266       1\n",
      "38.993290       1\n",
      "64.861870       1\n",
      "Name: count, Length: 166683, dtype: int64\n",
      "Number of unique values: 166683\n",
      "\n",
      "Column: PV\n",
      "PV\n",
      "7007,8564453125     100\n",
      "6973,4716796875      93\n",
      "10024,31640625       93\n",
      "6982,6611328125      92\n",
      "6969,7939453125      88\n",
      "                   ... \n",
      "8519,1015625          1\n",
      "8399,666015625        1\n",
      "8594,712890625        1\n",
      "8463,7109375          1\n",
      "40,1636505126953      1\n",
      "Name: count, Length: 43960, dtype: int64\n",
      "Number of unique values: 43960\n",
      "\n",
      "Column: SP\n",
      "SP\n",
      "7000     52790\n",
      "10000    41873\n",
      "8000     38501\n",
      "8800     31408\n",
      "6500     21012\n",
      "9000     19528\n",
      "8500     17310\n",
      "7700      8184\n",
      "9500      6134\n",
      "7500      4190\n",
      "0         2061\n",
      "9250      1638\n",
      "Name: count, dtype: int64\n",
      "Number of unique values: 12\n",
      "\n",
      "Column: Date\n",
      "Date\n",
      "2023-11-28    16988\n",
      "2023-11-30    16610\n",
      "2023-11-22    16550\n",
      "2023-11-21    16206\n",
      "2023-11-09    15967\n",
      "2023-11-16    15917\n",
      "2023-11-29    15758\n",
      "2023-11-14    15518\n",
      "2023-11-08    15077\n",
      "2023-11-07    14816\n",
      "2023-11-15    14485\n",
      "2023-11-23    14406\n",
      "2023-12-01    13405\n",
      "2023-11-10    12504\n",
      "2023-11-27    10329\n",
      "2023-11-20     9391\n",
      "2023-11-06     7224\n",
      "2023-11-17     3222\n",
      "2023-11-13      256\n",
      "Name: count, dtype: int64\n",
      "Number of unique values: 19\n"
     ]
    }
   ],
   "source": [
    "for column in data.columns:\n",
    "    unique_counts = data[column].value_counts()\n",
    "    print(f\"Column: {column}\")\n",
    "    print(unique_counts)\n",
    "    print(f\"Number of unique values: {len(unique_counts)}\")\n",
    "    print()"
   ],
   "metadata": {
    "collapsed": false,
    "ExecuteTime": {
     "end_time": "2023-12-02T11:18:14.311811400Z",
     "start_time": "2023-12-02T11:18:14.182809600Z"
    }
   },
   "id": "b927deeaa29b9960"
  },
  {
   "cell_type": "code",
   "execution_count": 103,
   "outputs": [
    {
     "name": "stderr",
     "output_type": "stream",
     "text": [
      "C:\\Users\\Xanh\\AppData\\Local\\Temp\\ipykernel_7772\\1135566744.py:1: FutureWarning: The argument 'infer_datetime_format' is deprecated and will be removed in a future version. A strict version of it is now the default, see https://pandas.pydata.org/pdeps/0004-consistent-to-datetime-parsing.html. You can safely remove this argument.\n",
      "  data = pd.read_csv('../data/20231202 Lijn 1 afgelopen maand sample per 5 seconden.csv', delimiter=';', parse_dates=['DateTime'], infer_datetime_format=True)\n"
     ]
    },
    {
     "name": "stdout",
     "output_type": "stream",
     "text": [
      "Number of outliers: 2628\n",
      "Outliers:                   DateTime  MESQuality,Density_Max  AltBom  DietCode  \\\n",
      "0      2023-11-06 09:43:16                     448  011-00  BK27073M   \n",
      "1      2023-11-06 09:43:21                     448  011-00  BK27073M   \n",
      "2      2023-11-06 09:43:26                     448  011-00  BK27073M   \n",
      "3      2023-11-06 09:43:31                     448  011-00  BK27073M   \n",
      "4      2023-11-06 09:43:36                     448  011-00  BK27073M   \n",
      "...                    ...                     ...     ...       ...   \n",
      "237406 2023-12-01 09:48:26                     488  011-00  BK28011M   \n",
      "237407 2023-12-01 09:48:31                     488  011-00  BK28011M   \n",
      "237408 2023-12-01 09:48:36                     488  011-00  BK28011M   \n",
      "237409 2023-12-01 09:48:41                     488  011-00  BK28011M   \n",
      "237410 2023-12-01 09:48:46                     488  011-00  BK28011M   \n",
      "\n",
      "        ProdOrderNum  Density_Min  Target  OUT                PV  SP  \n",
      "0            9869735          384     416  0.0  7,86367082595825   0  \n",
      "1            9869735          384     416  0.0  7,86367082595825   0  \n",
      "2            9869735          384     416  0.0  7,86367082595825   0  \n",
      "3            9869735          384     416  0.0  7,86367082595825   0  \n",
      "4            9869735          384     416  0.0  7,86367082595825   0  \n",
      "...              ...          ...     ...  ...               ...  ..  \n",
      "237406       9871890          424     456  0.0   27,288631439209   0  \n",
      "237407       9871890          424     456  0.0  11,2822246551514   0  \n",
      "237408       9871890          424     456  0.0  27,2985992431641   0  \n",
      "237409       9871890          424     456  0.0  9,18923282623291   0  \n",
      "237410       9871890          424     456  0.0   3,6776864528656   0  \n",
      "\n",
      "[2628 rows x 10 columns]\n"
     ]
    }
   ],
   "source": [
    "data = pd.read_csv('../data/20231202 Lijn 1 afgelopen maand sample per 5 seconden.csv', delimiter=';', parse_dates=['DateTime'], infer_datetime_format=True)\n",
    "\n",
    "\n",
    "# Convert 'OUT' column to numeric\n",
    "data['OUT'] = pd.to_numeric(data['OUT'].str.replace(',', '.'))  # Replace comma with dot and convert to numeric\n",
    "\n",
    "# Calculate IQR and potential outliers\n",
    "Q1 = data['OUT'].quantile(0.25)\n",
    "Q3 = data['OUT'].quantile(0.75)\n",
    "IQR = Q3 - Q1\n",
    "\n",
    "lower_bound = Q1 - 1.5 * IQR\n",
    "upper_bound = Q3 + 1.5 * IQR\n",
    "\n",
    "outliers = data[(data['OUT'] < lower_bound) | (data['OUT'] > upper_bound)]\n",
    "print(\"Number of outliers:\", len(outliers))\n",
    "print(\"Outliers:\", outliers)"
   ],
   "metadata": {
    "collapsed": false,
    "ExecuteTime": {
     "end_time": "2023-12-02T11:18:15.318810700Z",
     "start_time": "2023-12-02T11:18:14.310809900Z"
    }
   },
   "id": "d84d50df1897fd8f"
  },
  {
   "cell_type": "code",
   "execution_count": 104,
   "outputs": [
    {
     "data": {
      "text/plain": "              DateTime  MESQuality,Density_Max  AltBom  DietCode  \\\n15 2023-11-06 09:44:31                     448  011-00  BK27073M   \n16 2023-11-06 09:44:36                     448  011-00  BK27073M   \n17 2023-11-06 09:44:41                     448  011-00  BK27073M   \n18 2023-11-06 09:44:46                     448  011-00  BK27073M   \n19 2023-11-06 09:44:51                     448  011-00  BK27073M   \n\n    ProdOrderNum  Density_Min  Target        OUT                PV    SP  \n15       9869735          384     416  54.000000  24,1491432189941  8500  \n16       9869735          384     416  54.000000     1493,91796875  8500  \n17       9869735          384     416  54.000000   6238,9912109375  8500  \n18       9869735          384     416  54.000000   7779,3740234375  8500  \n19       9869735          384     416  54.043789   8244,2568359375  8500  ",
      "text/html": "<div>\n<style scoped>\n    .dataframe tbody tr th:only-of-type {\n        vertical-align: middle;\n    }\n\n    .dataframe tbody tr th {\n        vertical-align: top;\n    }\n\n    .dataframe thead th {\n        text-align: right;\n    }\n</style>\n<table border=\"1\" class=\"dataframe\">\n  <thead>\n    <tr style=\"text-align: right;\">\n      <th></th>\n      <th>DateTime</th>\n      <th>MESQuality,Density_Max</th>\n      <th>AltBom</th>\n      <th>DietCode</th>\n      <th>ProdOrderNum</th>\n      <th>Density_Min</th>\n      <th>Target</th>\n      <th>OUT</th>\n      <th>PV</th>\n      <th>SP</th>\n    </tr>\n  </thead>\n  <tbody>\n    <tr>\n      <th>15</th>\n      <td>2023-11-06 09:44:31</td>\n      <td>448</td>\n      <td>011-00</td>\n      <td>BK27073M</td>\n      <td>9869735</td>\n      <td>384</td>\n      <td>416</td>\n      <td>54.000000</td>\n      <td>24,1491432189941</td>\n      <td>8500</td>\n    </tr>\n    <tr>\n      <th>16</th>\n      <td>2023-11-06 09:44:36</td>\n      <td>448</td>\n      <td>011-00</td>\n      <td>BK27073M</td>\n      <td>9869735</td>\n      <td>384</td>\n      <td>416</td>\n      <td>54.000000</td>\n      <td>1493,91796875</td>\n      <td>8500</td>\n    </tr>\n    <tr>\n      <th>17</th>\n      <td>2023-11-06 09:44:41</td>\n      <td>448</td>\n      <td>011-00</td>\n      <td>BK27073M</td>\n      <td>9869735</td>\n      <td>384</td>\n      <td>416</td>\n      <td>54.000000</td>\n      <td>6238,9912109375</td>\n      <td>8500</td>\n    </tr>\n    <tr>\n      <th>18</th>\n      <td>2023-11-06 09:44:46</td>\n      <td>448</td>\n      <td>011-00</td>\n      <td>BK27073M</td>\n      <td>9869735</td>\n      <td>384</td>\n      <td>416</td>\n      <td>54.000000</td>\n      <td>7779,3740234375</td>\n      <td>8500</td>\n    </tr>\n    <tr>\n      <th>19</th>\n      <td>2023-11-06 09:44:51</td>\n      <td>448</td>\n      <td>011-00</td>\n      <td>BK27073M</td>\n      <td>9869735</td>\n      <td>384</td>\n      <td>416</td>\n      <td>54.043789</td>\n      <td>8244,2568359375</td>\n      <td>8500</td>\n    </tr>\n  </tbody>\n</table>\n</div>"
     },
     "execution_count": 104,
     "metadata": {},
     "output_type": "execute_result"
    }
   ],
   "source": [
    "data = data[(data['OUT'] >= lower_bound) & (data['OUT'] <= upper_bound)]\n",
    "\n",
    "data.head()\n",
    "\n"
   ],
   "metadata": {
    "collapsed": false,
    "ExecuteTime": {
     "end_time": "2023-12-02T11:18:15.379810100Z",
     "start_time": "2023-12-02T11:18:15.320810600Z"
    }
   },
   "id": "295faa251951a159"
  },
  {
   "cell_type": "code",
   "execution_count": 105,
   "outputs": [
    {
     "name": "stderr",
     "output_type": "stream",
     "text": [
      "C:\\Users\\Xanh\\AppData\\Local\\Temp\\ipykernel_7772\\3403708256.py:2: UserWarning: The argument 'infer_datetime_format' is deprecated and will be removed in a future version. A strict version of it is now the default, see https://pandas.pydata.org/pdeps/0004-consistent-to-datetime-parsing.html. You can safely remove this argument.\n",
      "  data['DateTime'] = pd.to_datetime(data['DateTime'], infer_datetime_format=True, errors='coerce')\n"
     ]
    },
    {
     "data": {
      "text/plain": "    MESQuality,Density_Max  AltBom  DietCode  ProdOrderNum  Density_Min  \\\n15                     448  011-00  BK27073M       9869735          384   \n16                     448  011-00  BK27073M       9869735          384   \n17                     448  011-00  BK27073M       9869735          384   \n18                     448  011-00  BK27073M       9869735          384   \n19                     448  011-00  BK27073M       9869735          384   \n\n    Target        OUT                PV    SP     ISO8601_DateTime  \n15     416  54.000000  24,1491432189941  8500  2023-11-06T09:44:31  \n16     416  54.000000     1493,91796875  8500  2023-11-06T09:44:36  \n17     416  54.000000   6238,9912109375  8500  2023-11-06T09:44:41  \n18     416  54.000000   7779,3740234375  8500  2023-11-06T09:44:46  \n19     416  54.043789   8244,2568359375  8500  2023-11-06T09:44:51  ",
      "text/html": "<div>\n<style scoped>\n    .dataframe tbody tr th:only-of-type {\n        vertical-align: middle;\n    }\n\n    .dataframe tbody tr th {\n        vertical-align: top;\n    }\n\n    .dataframe thead th {\n        text-align: right;\n    }\n</style>\n<table border=\"1\" class=\"dataframe\">\n  <thead>\n    <tr style=\"text-align: right;\">\n      <th></th>\n      <th>MESQuality,Density_Max</th>\n      <th>AltBom</th>\n      <th>DietCode</th>\n      <th>ProdOrderNum</th>\n      <th>Density_Min</th>\n      <th>Target</th>\n      <th>OUT</th>\n      <th>PV</th>\n      <th>SP</th>\n      <th>ISO8601_DateTime</th>\n    </tr>\n  </thead>\n  <tbody>\n    <tr>\n      <th>15</th>\n      <td>448</td>\n      <td>011-00</td>\n      <td>BK27073M</td>\n      <td>9869735</td>\n      <td>384</td>\n      <td>416</td>\n      <td>54.000000</td>\n      <td>24,1491432189941</td>\n      <td>8500</td>\n      <td>2023-11-06T09:44:31</td>\n    </tr>\n    <tr>\n      <th>16</th>\n      <td>448</td>\n      <td>011-00</td>\n      <td>BK27073M</td>\n      <td>9869735</td>\n      <td>384</td>\n      <td>416</td>\n      <td>54.000000</td>\n      <td>1493,91796875</td>\n      <td>8500</td>\n      <td>2023-11-06T09:44:36</td>\n    </tr>\n    <tr>\n      <th>17</th>\n      <td>448</td>\n      <td>011-00</td>\n      <td>BK27073M</td>\n      <td>9869735</td>\n      <td>384</td>\n      <td>416</td>\n      <td>54.000000</td>\n      <td>6238,9912109375</td>\n      <td>8500</td>\n      <td>2023-11-06T09:44:41</td>\n    </tr>\n    <tr>\n      <th>18</th>\n      <td>448</td>\n      <td>011-00</td>\n      <td>BK27073M</td>\n      <td>9869735</td>\n      <td>384</td>\n      <td>416</td>\n      <td>54.000000</td>\n      <td>7779,3740234375</td>\n      <td>8500</td>\n      <td>2023-11-06T09:44:46</td>\n    </tr>\n    <tr>\n      <th>19</th>\n      <td>448</td>\n      <td>011-00</td>\n      <td>BK27073M</td>\n      <td>9869735</td>\n      <td>384</td>\n      <td>416</td>\n      <td>54.043789</td>\n      <td>8244,2568359375</td>\n      <td>8500</td>\n      <td>2023-11-06T09:44:51</td>\n    </tr>\n  </tbody>\n</table>\n</div>"
     },
     "execution_count": 105,
     "metadata": {},
     "output_type": "execute_result"
    }
   ],
   "source": [
    "# Convert 'DateTime' column to datetime format with inferred format\n",
    "data['DateTime'] = pd.to_datetime(data['DateTime'], infer_datetime_format=True, errors='coerce')\n",
    "\n",
    "# Convert to ISO 8601 format\n",
    "data['ISO8601_DateTime'] = data['DateTime'].dt.strftime('%Y-%m-%dT%H:%M:%S')\n",
    "\n",
    "\n",
    "data = data.drop('DateTime', axis=1)\n",
    "data.head()\n"
   ],
   "metadata": {
    "collapsed": false,
    "ExecuteTime": {
     "end_time": "2023-12-02T11:18:16.845810700Z",
     "start_time": "2023-12-02T11:18:15.350811Z"
    }
   },
   "id": "3990424135a8212"
  },
  {
   "cell_type": "code",
   "execution_count": 106,
   "outputs": [
    {
     "data": {
      "text/plain": "    MESQuality,Density_Max  AltBom  DietCode  ProdOrderNum  Density_Min  \\\n15                     448  011-00  BK27073M       9869735          384   \n16                     448  011-00  BK27073M       9869735          384   \n17                     448  011-00  BK27073M       9869735          384   \n18                     448  011-00  BK27073M       9869735          384   \n19                     448  011-00  BK27073M       9869735          384   \n\n    Target        OUT                PV    SP    ISO8601_DateTime  Year  \\\n15     416  54.000000  24,1491432189941  8500 2023-11-06 09:44:31  2023   \n16     416  54.000000     1493,91796875  8500 2023-11-06 09:44:36  2023   \n17     416  54.000000   6238,9912109375  8500 2023-11-06 09:44:41  2023   \n18     416  54.000000   7779,3740234375  8500 2023-11-06 09:44:46  2023   \n19     416  54.043789   8244,2568359375  8500 2023-11-06 09:44:51  2023   \n\n    Month  Day  Hour  Minute  Second  \n15     11    6     9      44      31  \n16     11    6     9      44      36  \n17     11    6     9      44      41  \n18     11    6     9      44      46  \n19     11    6     9      44      51  ",
      "text/html": "<div>\n<style scoped>\n    .dataframe tbody tr th:only-of-type {\n        vertical-align: middle;\n    }\n\n    .dataframe tbody tr th {\n        vertical-align: top;\n    }\n\n    .dataframe thead th {\n        text-align: right;\n    }\n</style>\n<table border=\"1\" class=\"dataframe\">\n  <thead>\n    <tr style=\"text-align: right;\">\n      <th></th>\n      <th>MESQuality,Density_Max</th>\n      <th>AltBom</th>\n      <th>DietCode</th>\n      <th>ProdOrderNum</th>\n      <th>Density_Min</th>\n      <th>Target</th>\n      <th>OUT</th>\n      <th>PV</th>\n      <th>SP</th>\n      <th>ISO8601_DateTime</th>\n      <th>Year</th>\n      <th>Month</th>\n      <th>Day</th>\n      <th>Hour</th>\n      <th>Minute</th>\n      <th>Second</th>\n    </tr>\n  </thead>\n  <tbody>\n    <tr>\n      <th>15</th>\n      <td>448</td>\n      <td>011-00</td>\n      <td>BK27073M</td>\n      <td>9869735</td>\n      <td>384</td>\n      <td>416</td>\n      <td>54.000000</td>\n      <td>24,1491432189941</td>\n      <td>8500</td>\n      <td>2023-11-06 09:44:31</td>\n      <td>2023</td>\n      <td>11</td>\n      <td>6</td>\n      <td>9</td>\n      <td>44</td>\n      <td>31</td>\n    </tr>\n    <tr>\n      <th>16</th>\n      <td>448</td>\n      <td>011-00</td>\n      <td>BK27073M</td>\n      <td>9869735</td>\n      <td>384</td>\n      <td>416</td>\n      <td>54.000000</td>\n      <td>1493,91796875</td>\n      <td>8500</td>\n      <td>2023-11-06 09:44:36</td>\n      <td>2023</td>\n      <td>11</td>\n      <td>6</td>\n      <td>9</td>\n      <td>44</td>\n      <td>36</td>\n    </tr>\n    <tr>\n      <th>17</th>\n      <td>448</td>\n      <td>011-00</td>\n      <td>BK27073M</td>\n      <td>9869735</td>\n      <td>384</td>\n      <td>416</td>\n      <td>54.000000</td>\n      <td>6238,9912109375</td>\n      <td>8500</td>\n      <td>2023-11-06 09:44:41</td>\n      <td>2023</td>\n      <td>11</td>\n      <td>6</td>\n      <td>9</td>\n      <td>44</td>\n      <td>41</td>\n    </tr>\n    <tr>\n      <th>18</th>\n      <td>448</td>\n      <td>011-00</td>\n      <td>BK27073M</td>\n      <td>9869735</td>\n      <td>384</td>\n      <td>416</td>\n      <td>54.000000</td>\n      <td>7779,3740234375</td>\n      <td>8500</td>\n      <td>2023-11-06 09:44:46</td>\n      <td>2023</td>\n      <td>11</td>\n      <td>6</td>\n      <td>9</td>\n      <td>44</td>\n      <td>46</td>\n    </tr>\n    <tr>\n      <th>19</th>\n      <td>448</td>\n      <td>011-00</td>\n      <td>BK27073M</td>\n      <td>9869735</td>\n      <td>384</td>\n      <td>416</td>\n      <td>54.043789</td>\n      <td>8244,2568359375</td>\n      <td>8500</td>\n      <td>2023-11-06 09:44:51</td>\n      <td>2023</td>\n      <td>11</td>\n      <td>6</td>\n      <td>9</td>\n      <td>44</td>\n      <td>51</td>\n    </tr>\n  </tbody>\n</table>\n</div>"
     },
     "execution_count": 106,
     "metadata": {},
     "output_type": "execute_result"
    }
   ],
   "source": [
    "data['ISO8601_DateTime'] = pd.to_datetime(data['ISO8601_DateTime'])\n",
    "\n",
    "data['Year'] = data['ISO8601_DateTime'].dt.year\n",
    "data['Month'] = data['ISO8601_DateTime'].dt.month\n",
    "data['Day'] = data['ISO8601_DateTime'].dt.day\n",
    "data['Hour'] = data['ISO8601_DateTime'].dt.hour\n",
    "data['Minute'] = data['ISO8601_DateTime'].dt.minute\n",
    "data['Second'] = data['ISO8601_DateTime'].dt.second\n",
    "\n",
    "data.head()\n"
   ],
   "metadata": {
    "collapsed": false,
    "ExecuteTime": {
     "end_time": "2023-12-02T11:18:17.008810200Z",
     "start_time": "2023-12-02T11:18:16.817809300Z"
    }
   },
   "id": "791018668ec65e3d"
  },
  {
   "cell_type": "code",
   "execution_count": 107,
   "outputs": [
    {
     "data": {
      "text/plain": "    MESQuality,Density_Max  Density_Min  Target        OUT                PV  \\\n15                     448          384     416  54.000000  24,1491432189941   \n16                     448          384     416  54.000000     1493,91796875   \n17                     448          384     416  54.000000   6238,9912109375   \n18                     448          384     416  54.000000   7779,3740234375   \n19                     448          384     416  54.043789   8244,2568359375   \n\n      SP  Year  Month  Day  Hour  ...  DietCode_BK33725M  DietCode_BK34182M  \\\n15  8500  2023     11    6     9  ...              False              False   \n16  8500  2023     11    6     9  ...              False              False   \n17  8500  2023     11    6     9  ...              False              False   \n18  8500  2023     11    6     9  ...              False              False   \n19  8500  2023     11    6     9  ...              False              False   \n\n    DietCode_BK34390M  DietCode_BK34513M  DietCode_BK34568M  \\\n15              False              False              False   \n16              False              False              False   \n17              False              False              False   \n18              False              False              False   \n19              False              False              False   \n\n    DietCode_BK34683M  DietCode_BK34827M  DietCode_BK34898M  AltBom_011-00  \\\n15              False              False              False           True   \n16              False              False              False           True   \n17              False              False              False           True   \n18              False              False              False           True   \n19              False              False              False           True   \n\n    AltBom_021-00  \n15          False  \n16          False  \n17          False  \n18          False  \n19          False  \n\n[5 rows x 43 columns]",
      "text/html": "<div>\n<style scoped>\n    .dataframe tbody tr th:only-of-type {\n        vertical-align: middle;\n    }\n\n    .dataframe tbody tr th {\n        vertical-align: top;\n    }\n\n    .dataframe thead th {\n        text-align: right;\n    }\n</style>\n<table border=\"1\" class=\"dataframe\">\n  <thead>\n    <tr style=\"text-align: right;\">\n      <th></th>\n      <th>MESQuality,Density_Max</th>\n      <th>Density_Min</th>\n      <th>Target</th>\n      <th>OUT</th>\n      <th>PV</th>\n      <th>SP</th>\n      <th>Year</th>\n      <th>Month</th>\n      <th>Day</th>\n      <th>Hour</th>\n      <th>...</th>\n      <th>DietCode_BK33725M</th>\n      <th>DietCode_BK34182M</th>\n      <th>DietCode_BK34390M</th>\n      <th>DietCode_BK34513M</th>\n      <th>DietCode_BK34568M</th>\n      <th>DietCode_BK34683M</th>\n      <th>DietCode_BK34827M</th>\n      <th>DietCode_BK34898M</th>\n      <th>AltBom_011-00</th>\n      <th>AltBom_021-00</th>\n    </tr>\n  </thead>\n  <tbody>\n    <tr>\n      <th>15</th>\n      <td>448</td>\n      <td>384</td>\n      <td>416</td>\n      <td>54.000000</td>\n      <td>24,1491432189941</td>\n      <td>8500</td>\n      <td>2023</td>\n      <td>11</td>\n      <td>6</td>\n      <td>9</td>\n      <td>...</td>\n      <td>False</td>\n      <td>False</td>\n      <td>False</td>\n      <td>False</td>\n      <td>False</td>\n      <td>False</td>\n      <td>False</td>\n      <td>False</td>\n      <td>True</td>\n      <td>False</td>\n    </tr>\n    <tr>\n      <th>16</th>\n      <td>448</td>\n      <td>384</td>\n      <td>416</td>\n      <td>54.000000</td>\n      <td>1493,91796875</td>\n      <td>8500</td>\n      <td>2023</td>\n      <td>11</td>\n      <td>6</td>\n      <td>9</td>\n      <td>...</td>\n      <td>False</td>\n      <td>False</td>\n      <td>False</td>\n      <td>False</td>\n      <td>False</td>\n      <td>False</td>\n      <td>False</td>\n      <td>False</td>\n      <td>True</td>\n      <td>False</td>\n    </tr>\n    <tr>\n      <th>17</th>\n      <td>448</td>\n      <td>384</td>\n      <td>416</td>\n      <td>54.000000</td>\n      <td>6238,9912109375</td>\n      <td>8500</td>\n      <td>2023</td>\n      <td>11</td>\n      <td>6</td>\n      <td>9</td>\n      <td>...</td>\n      <td>False</td>\n      <td>False</td>\n      <td>False</td>\n      <td>False</td>\n      <td>False</td>\n      <td>False</td>\n      <td>False</td>\n      <td>False</td>\n      <td>True</td>\n      <td>False</td>\n    </tr>\n    <tr>\n      <th>18</th>\n      <td>448</td>\n      <td>384</td>\n      <td>416</td>\n      <td>54.000000</td>\n      <td>7779,3740234375</td>\n      <td>8500</td>\n      <td>2023</td>\n      <td>11</td>\n      <td>6</td>\n      <td>9</td>\n      <td>...</td>\n      <td>False</td>\n      <td>False</td>\n      <td>False</td>\n      <td>False</td>\n      <td>False</td>\n      <td>False</td>\n      <td>False</td>\n      <td>False</td>\n      <td>True</td>\n      <td>False</td>\n    </tr>\n    <tr>\n      <th>19</th>\n      <td>448</td>\n      <td>384</td>\n      <td>416</td>\n      <td>54.043789</td>\n      <td>8244,2568359375</td>\n      <td>8500</td>\n      <td>2023</td>\n      <td>11</td>\n      <td>6</td>\n      <td>9</td>\n      <td>...</td>\n      <td>False</td>\n      <td>False</td>\n      <td>False</td>\n      <td>False</td>\n      <td>False</td>\n      <td>False</td>\n      <td>False</td>\n      <td>False</td>\n      <td>True</td>\n      <td>False</td>\n    </tr>\n  </tbody>\n</table>\n<p>5 rows × 43 columns</p>\n</div>"
     },
     "execution_count": 107,
     "metadata": {},
     "output_type": "execute_result"
    }
   ],
   "source": [
    "data = data.drop('ISO8601_DateTime', axis=1)\n",
    "data = data.drop('ProdOrderNum', axis=1)\n",
    "\n",
    "\n",
    "encoded_data = pd.get_dummies(data, columns=['DietCode', 'AltBom'])\n",
    "\n",
    "encoded_data.head()"
   ],
   "metadata": {
    "collapsed": false,
    "ExecuteTime": {
     "end_time": "2023-12-02T11:18:17.129810Z",
     "start_time": "2023-12-02T11:18:17.005810100Z"
    }
   },
   "id": "af8c79efaf028240"
  },
  {
   "cell_type": "code",
   "execution_count": 108,
   "outputs": [],
   "source": [
    "encoded_data.to_csv(\"../data/20231202 Lijn 1 afgelopen maand traindata-xanh.csv\", index=False, sep=\";\", decimal=\",\")"
   ],
   "metadata": {
    "collapsed": false,
    "ExecuteTime": {
     "end_time": "2023-12-02T11:18:18.821809500Z",
     "start_time": "2023-12-02T11:18:17.130809800Z"
    }
   },
   "id": "34a9bed448fbcf88"
  },
  {
   "cell_type": "code",
   "execution_count": 108,
   "outputs": [],
   "source": [],
   "metadata": {
    "collapsed": false,
    "ExecuteTime": {
     "end_time": "2023-12-02T11:18:18.837810100Z",
     "start_time": "2023-12-02T11:18:18.821809500Z"
    }
   },
   "id": "bc185acf4a8e6ab2"
  }
 ],
 "metadata": {
  "kernelspec": {
   "display_name": "Python 3",
   "language": "python",
   "name": "python3"
  },
  "language_info": {
   "codemirror_mode": {
    "name": "ipython",
    "version": 2
   },
   "file_extension": ".py",
   "mimetype": "text/x-python",
   "name": "python",
   "nbconvert_exporter": "python",
   "pygments_lexer": "ipython2",
   "version": "2.7.6"
  }
 },
 "nbformat": 4,
 "nbformat_minor": 5
}
