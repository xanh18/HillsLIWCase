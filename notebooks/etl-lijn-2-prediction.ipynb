{
 "cells": [
  {
   "cell_type": "code",
   "execution_count": 26,
   "id": "initial_id",
   "metadata": {
    "collapsed": true,
    "ExecuteTime": {
     "end_time": "2023-12-02T12:29:57.372123Z",
     "start_time": "2023-12-02T12:29:57.353123100Z"
    }
   },
   "outputs": [],
   "source": [
    "import pandas as pd\n",
    "import matplotlib.pyplot as plt\n",
    "from datetime import datetime"
   ]
  },
  {
   "cell_type": "code",
   "execution_count": 27,
   "outputs": [
    {
     "name": "stderr",
     "output_type": "stream",
     "text": [
      "C:\\Users\\Xanh\\AppData\\Local\\Temp\\ipykernel_9852\\529452757.py:1: FutureWarning: The argument 'infer_datetime_format' is deprecated and will be removed in a future version. A strict version of it is now the default, see https://pandas.pydata.org/pdeps/0004-consistent-to-datetime-parsing.html. You can safely remove this argument.\n",
      "  data2 = pd.read_csv('../data/20231202 Lijn 1 settings definitief.csv', delimiter=';', parse_dates=['DateTime'], infer_datetime_format=True)\n",
      "C:\\Users\\Xanh\\AppData\\Local\\Temp\\ipykernel_9852\\529452757.py:4: UserWarning: The argument 'infer_datetime_format' is deprecated and will be removed in a future version. A strict version of it is now the default, see https://pandas.pydata.org/pdeps/0004-consistent-to-datetime-parsing.html. You can safely remove this argument.\n",
      "  data2['DateTime'] = pd.to_datetime(data2['DateTime'], infer_datetime_format=True, errors='coerce')\n"
     ]
    },
    {
     "data": {
      "text/plain": "   MESQuality,Density_Max  AltBom  DietCode  Density_Min  Target  OUT    PV  \\\n0                     560  011-00  BK24086M          496     528   54  9000   \n1                     472  011-00  BK24705M          408     440   38  7000   \n2                     432  011-00  BK25036M          368     400   61  9500   \n3                     432  021-00  BK25352M          368     400   48  7700   \n4                     432  021-00  BK25529M          368     400   55  8000   \n\n     SP     ISO8601_DateTime  \n0  9000  2023-12-02T12:00:00  \n1  7000  2023-12-02T12:00:00  \n2  9500  2023-12-02T12:00:00  \n3  7700  2023-12-02T12:00:00  \n4  8000  2023-12-02T12:00:00  ",
      "text/html": "<div>\n<style scoped>\n    .dataframe tbody tr th:only-of-type {\n        vertical-align: middle;\n    }\n\n    .dataframe tbody tr th {\n        vertical-align: top;\n    }\n\n    .dataframe thead th {\n        text-align: right;\n    }\n</style>\n<table border=\"1\" class=\"dataframe\">\n  <thead>\n    <tr style=\"text-align: right;\">\n      <th></th>\n      <th>MESQuality,Density_Max</th>\n      <th>AltBom</th>\n      <th>DietCode</th>\n      <th>Density_Min</th>\n      <th>Target</th>\n      <th>OUT</th>\n      <th>PV</th>\n      <th>SP</th>\n      <th>ISO8601_DateTime</th>\n    </tr>\n  </thead>\n  <tbody>\n    <tr>\n      <th>0</th>\n      <td>560</td>\n      <td>011-00</td>\n      <td>BK24086M</td>\n      <td>496</td>\n      <td>528</td>\n      <td>54</td>\n      <td>9000</td>\n      <td>9000</td>\n      <td>2023-12-02T12:00:00</td>\n    </tr>\n    <tr>\n      <th>1</th>\n      <td>472</td>\n      <td>011-00</td>\n      <td>BK24705M</td>\n      <td>408</td>\n      <td>440</td>\n      <td>38</td>\n      <td>7000</td>\n      <td>7000</td>\n      <td>2023-12-02T12:00:00</td>\n    </tr>\n    <tr>\n      <th>2</th>\n      <td>432</td>\n      <td>011-00</td>\n      <td>BK25036M</td>\n      <td>368</td>\n      <td>400</td>\n      <td>61</td>\n      <td>9500</td>\n      <td>9500</td>\n      <td>2023-12-02T12:00:00</td>\n    </tr>\n    <tr>\n      <th>3</th>\n      <td>432</td>\n      <td>021-00</td>\n      <td>BK25352M</td>\n      <td>368</td>\n      <td>400</td>\n      <td>48</td>\n      <td>7700</td>\n      <td>7700</td>\n      <td>2023-12-02T12:00:00</td>\n    </tr>\n    <tr>\n      <th>4</th>\n      <td>432</td>\n      <td>021-00</td>\n      <td>BK25529M</td>\n      <td>368</td>\n      <td>400</td>\n      <td>55</td>\n      <td>8000</td>\n      <td>8000</td>\n      <td>2023-12-02T12:00:00</td>\n    </tr>\n  </tbody>\n</table>\n</div>"
     },
     "execution_count": 27,
     "metadata": {},
     "output_type": "execute_result"
    }
   ],
   "source": [
    "data2 = pd.read_csv('../data/20231202 Lijn 1 settings definitief.csv', delimiter=';', parse_dates=['DateTime'], infer_datetime_format=True)\n",
    "\n",
    "# Convert 'DateTime' column to datetime format with inferred format\n",
    "data2['DateTime'] = pd.to_datetime(data2['DateTime'], infer_datetime_format=True, errors='coerce')\n",
    "\n",
    "# Convert to ISO 8601 format\n",
    "data2['ISO8601_DateTime'] = data2['DateTime'].dt.strftime('%Y-%m-%dT%H:%M:%S')\n",
    "\n",
    "\n",
    "data2 = data2.drop('DateTime', axis=1)\n",
    "data2.head()\n"
   ],
   "metadata": {
    "collapsed": false,
    "ExecuteTime": {
     "end_time": "2023-12-02T12:29:57.413123400Z",
     "start_time": "2023-12-02T12:29:57.369123400Z"
    }
   },
   "id": "3b16b3862fc041ef"
  },
  {
   "cell_type": "code",
   "execution_count": 28,
   "outputs": [
    {
     "data": {
      "text/plain": "   MESQuality,Density_Max  Density_Min  Target  OUT    PV    SP  \\\n0                     560          496     528   54  9000  9000   \n1                     472          408     440   38  7000  7000   \n2                     432          368     400   61  9500  9500   \n3                     432          368     400   48  7700  7700   \n4                     432          368     400   55  8000  8000   \n\n   DietCode_BK24086M  DietCode_BK24705M  DietCode_BK25036M  DietCode_BK25352M  \\\n0               True              False              False              False   \n1              False               True              False              False   \n2              False              False               True              False   \n3              False              False              False               True   \n4              False              False              False              False   \n\n   ...  DietCode_BK33725M  DietCode_BK34182M  DietCode_BK34390M  \\\n0  ...              False              False              False   \n1  ...              False              False              False   \n2  ...              False              False              False   \n3  ...              False              False              False   \n4  ...              False              False              False   \n\n   DietCode_BK34513M  DietCode_BK34568M  DietCode_BK34683M  DietCode_BK34827M  \\\n0              False              False              False              False   \n1              False              False              False              False   \n2              False              False              False              False   \n3              False              False              False              False   \n4              False              False              False              False   \n\n   DietCode_BK34898M  AltBom_011-00  AltBom_021-00  \n0              False           True          False  \n1              False           True          False  \n2              False           True          False  \n3              False          False           True  \n4              False          False           True  \n\n[5 rows x 37 columns]",
      "text/html": "<div>\n<style scoped>\n    .dataframe tbody tr th:only-of-type {\n        vertical-align: middle;\n    }\n\n    .dataframe tbody tr th {\n        vertical-align: top;\n    }\n\n    .dataframe thead th {\n        text-align: right;\n    }\n</style>\n<table border=\"1\" class=\"dataframe\">\n  <thead>\n    <tr style=\"text-align: right;\">\n      <th></th>\n      <th>MESQuality,Density_Max</th>\n      <th>Density_Min</th>\n      <th>Target</th>\n      <th>OUT</th>\n      <th>PV</th>\n      <th>SP</th>\n      <th>DietCode_BK24086M</th>\n      <th>DietCode_BK24705M</th>\n      <th>DietCode_BK25036M</th>\n      <th>DietCode_BK25352M</th>\n      <th>...</th>\n      <th>DietCode_BK33725M</th>\n      <th>DietCode_BK34182M</th>\n      <th>DietCode_BK34390M</th>\n      <th>DietCode_BK34513M</th>\n      <th>DietCode_BK34568M</th>\n      <th>DietCode_BK34683M</th>\n      <th>DietCode_BK34827M</th>\n      <th>DietCode_BK34898M</th>\n      <th>AltBom_011-00</th>\n      <th>AltBom_021-00</th>\n    </tr>\n  </thead>\n  <tbody>\n    <tr>\n      <th>0</th>\n      <td>560</td>\n      <td>496</td>\n      <td>528</td>\n      <td>54</td>\n      <td>9000</td>\n      <td>9000</td>\n      <td>True</td>\n      <td>False</td>\n      <td>False</td>\n      <td>False</td>\n      <td>...</td>\n      <td>False</td>\n      <td>False</td>\n      <td>False</td>\n      <td>False</td>\n      <td>False</td>\n      <td>False</td>\n      <td>False</td>\n      <td>False</td>\n      <td>True</td>\n      <td>False</td>\n    </tr>\n    <tr>\n      <th>1</th>\n      <td>472</td>\n      <td>408</td>\n      <td>440</td>\n      <td>38</td>\n      <td>7000</td>\n      <td>7000</td>\n      <td>False</td>\n      <td>True</td>\n      <td>False</td>\n      <td>False</td>\n      <td>...</td>\n      <td>False</td>\n      <td>False</td>\n      <td>False</td>\n      <td>False</td>\n      <td>False</td>\n      <td>False</td>\n      <td>False</td>\n      <td>False</td>\n      <td>True</td>\n      <td>False</td>\n    </tr>\n    <tr>\n      <th>2</th>\n      <td>432</td>\n      <td>368</td>\n      <td>400</td>\n      <td>61</td>\n      <td>9500</td>\n      <td>9500</td>\n      <td>False</td>\n      <td>False</td>\n      <td>True</td>\n      <td>False</td>\n      <td>...</td>\n      <td>False</td>\n      <td>False</td>\n      <td>False</td>\n      <td>False</td>\n      <td>False</td>\n      <td>False</td>\n      <td>False</td>\n      <td>False</td>\n      <td>True</td>\n      <td>False</td>\n    </tr>\n    <tr>\n      <th>3</th>\n      <td>432</td>\n      <td>368</td>\n      <td>400</td>\n      <td>48</td>\n      <td>7700</td>\n      <td>7700</td>\n      <td>False</td>\n      <td>False</td>\n      <td>False</td>\n      <td>True</td>\n      <td>...</td>\n      <td>False</td>\n      <td>False</td>\n      <td>False</td>\n      <td>False</td>\n      <td>False</td>\n      <td>False</td>\n      <td>False</td>\n      <td>False</td>\n      <td>False</td>\n      <td>True</td>\n    </tr>\n    <tr>\n      <th>4</th>\n      <td>432</td>\n      <td>368</td>\n      <td>400</td>\n      <td>55</td>\n      <td>8000</td>\n      <td>8000</td>\n      <td>False</td>\n      <td>False</td>\n      <td>False</td>\n      <td>False</td>\n      <td>...</td>\n      <td>False</td>\n      <td>False</td>\n      <td>False</td>\n      <td>False</td>\n      <td>False</td>\n      <td>False</td>\n      <td>False</td>\n      <td>False</td>\n      <td>False</td>\n      <td>True</td>\n    </tr>\n  </tbody>\n</table>\n<p>5 rows × 37 columns</p>\n</div>"
     },
     "execution_count": 28,
     "metadata": {},
     "output_type": "execute_result"
    }
   ],
   "source": [
    "data2 = data2.drop('ISO8601_DateTime', axis=1)\n",
    "\n",
    "encoded_data = pd.get_dummies(data2, columns=['DietCode', 'AltBom'])\n",
    "\n",
    "encoded_data.head()"
   ],
   "metadata": {
    "collapsed": false,
    "ExecuteTime": {
     "end_time": "2023-12-02T12:29:57.465123300Z",
     "start_time": "2023-12-02T12:29:57.384122900Z"
    }
   },
   "id": "b927deeaa29b9960"
  },
  {
   "cell_type": "code",
   "execution_count": 29,
   "outputs": [
    {
     "data": {
      "text/plain": "   MESQuality,Density_Max  Density_Min  Target               OUT  \\\n0                     448          384     416              54,0   \n1                     448          384     416              54,0   \n2                     448          384     416              54,0   \n3                     448          384     416              54,0   \n4                     448          384     416  54,0437889099121   \n\n                 PV    SP  Year  Month  Day  Hour  ...  DietCode_BK33725M  \\\n0  24,1491432189941  8500  2023     11    6     9  ...              False   \n1     1493,91796875  8500  2023     11    6     9  ...              False   \n2   6238,9912109375  8500  2023     11    6     9  ...              False   \n3   7779,3740234375  8500  2023     11    6     9  ...              False   \n4   8244,2568359375  8500  2023     11    6     9  ...              False   \n\n   DietCode_BK34182M  DietCode_BK34390M  DietCode_BK34513M  DietCode_BK34568M  \\\n0              False              False              False              False   \n1              False              False              False              False   \n2              False              False              False              False   \n3              False              False              False              False   \n4              False              False              False              False   \n\n   DietCode_BK34683M  DietCode_BK34827M  DietCode_BK34898M  AltBom_011-00  \\\n0              False              False              False           True   \n1              False              False              False           True   \n2              False              False              False           True   \n3              False              False              False           True   \n4              False              False              False           True   \n\n   AltBom_021-00  \n0          False  \n1          False  \n2          False  \n3          False  \n4          False  \n\n[5 rows x 43 columns]",
      "text/html": "<div>\n<style scoped>\n    .dataframe tbody tr th:only-of-type {\n        vertical-align: middle;\n    }\n\n    .dataframe tbody tr th {\n        vertical-align: top;\n    }\n\n    .dataframe thead th {\n        text-align: right;\n    }\n</style>\n<table border=\"1\" class=\"dataframe\">\n  <thead>\n    <tr style=\"text-align: right;\">\n      <th></th>\n      <th>MESQuality,Density_Max</th>\n      <th>Density_Min</th>\n      <th>Target</th>\n      <th>OUT</th>\n      <th>PV</th>\n      <th>SP</th>\n      <th>Year</th>\n      <th>Month</th>\n      <th>Day</th>\n      <th>Hour</th>\n      <th>...</th>\n      <th>DietCode_BK33725M</th>\n      <th>DietCode_BK34182M</th>\n      <th>DietCode_BK34390M</th>\n      <th>DietCode_BK34513M</th>\n      <th>DietCode_BK34568M</th>\n      <th>DietCode_BK34683M</th>\n      <th>DietCode_BK34827M</th>\n      <th>DietCode_BK34898M</th>\n      <th>AltBom_011-00</th>\n      <th>AltBom_021-00</th>\n    </tr>\n  </thead>\n  <tbody>\n    <tr>\n      <th>0</th>\n      <td>448</td>\n      <td>384</td>\n      <td>416</td>\n      <td>54,0</td>\n      <td>24,1491432189941</td>\n      <td>8500</td>\n      <td>2023</td>\n      <td>11</td>\n      <td>6</td>\n      <td>9</td>\n      <td>...</td>\n      <td>False</td>\n      <td>False</td>\n      <td>False</td>\n      <td>False</td>\n      <td>False</td>\n      <td>False</td>\n      <td>False</td>\n      <td>False</td>\n      <td>True</td>\n      <td>False</td>\n    </tr>\n    <tr>\n      <th>1</th>\n      <td>448</td>\n      <td>384</td>\n      <td>416</td>\n      <td>54,0</td>\n      <td>1493,91796875</td>\n      <td>8500</td>\n      <td>2023</td>\n      <td>11</td>\n      <td>6</td>\n      <td>9</td>\n      <td>...</td>\n      <td>False</td>\n      <td>False</td>\n      <td>False</td>\n      <td>False</td>\n      <td>False</td>\n      <td>False</td>\n      <td>False</td>\n      <td>False</td>\n      <td>True</td>\n      <td>False</td>\n    </tr>\n    <tr>\n      <th>2</th>\n      <td>448</td>\n      <td>384</td>\n      <td>416</td>\n      <td>54,0</td>\n      <td>6238,9912109375</td>\n      <td>8500</td>\n      <td>2023</td>\n      <td>11</td>\n      <td>6</td>\n      <td>9</td>\n      <td>...</td>\n      <td>False</td>\n      <td>False</td>\n      <td>False</td>\n      <td>False</td>\n      <td>False</td>\n      <td>False</td>\n      <td>False</td>\n      <td>False</td>\n      <td>True</td>\n      <td>False</td>\n    </tr>\n    <tr>\n      <th>3</th>\n      <td>448</td>\n      <td>384</td>\n      <td>416</td>\n      <td>54,0</td>\n      <td>7779,3740234375</td>\n      <td>8500</td>\n      <td>2023</td>\n      <td>11</td>\n      <td>6</td>\n      <td>9</td>\n      <td>...</td>\n      <td>False</td>\n      <td>False</td>\n      <td>False</td>\n      <td>False</td>\n      <td>False</td>\n      <td>False</td>\n      <td>False</td>\n      <td>False</td>\n      <td>True</td>\n      <td>False</td>\n    </tr>\n    <tr>\n      <th>4</th>\n      <td>448</td>\n      <td>384</td>\n      <td>416</td>\n      <td>54,0437889099121</td>\n      <td>8244,2568359375</td>\n      <td>8500</td>\n      <td>2023</td>\n      <td>11</td>\n      <td>6</td>\n      <td>9</td>\n      <td>...</td>\n      <td>False</td>\n      <td>False</td>\n      <td>False</td>\n      <td>False</td>\n      <td>False</td>\n      <td>False</td>\n      <td>False</td>\n      <td>False</td>\n      <td>True</td>\n      <td>False</td>\n    </tr>\n  </tbody>\n</table>\n<p>5 rows × 43 columns</p>\n</div>"
     },
     "execution_count": 29,
     "metadata": {},
     "output_type": "execute_result"
    }
   ],
   "source": [
    "data1 = pd.read_csv('../data/20231202 Lijn 1 afgelopen maand traindata-xanh.csv', delimiter=';')\n",
    "\n",
    "data1.head()"
   ],
   "metadata": {
    "collapsed": false,
    "ExecuteTime": {
     "end_time": "2023-12-02T12:29:57.996122600Z",
     "start_time": "2023-12-02T12:29:57.400123Z"
    }
   },
   "id": "d84d50df1897fd8f"
  },
  {
   "cell_type": "code",
   "execution_count": 30,
   "outputs": [
    {
     "name": "stdout",
     "output_type": "stream",
     "text": [
      "The column names in the DataFrames are different.\n"
     ]
    }
   ],
   "source": [
    "if set(encoded_data.columns) == set(data1.columns):\n",
    "    print(\"Both DataFrames have the same column names.\")\n",
    "else:\n",
    "    print(\"The column names in the DataFrames are different.\")\n"
   ],
   "metadata": {
    "collapsed": false,
    "ExecuteTime": {
     "end_time": "2023-12-02T12:29:58.029123400Z",
     "start_time": "2023-12-02T12:29:57.998123Z"
    }
   },
   "id": "295faa251951a159"
  },
  {
   "cell_type": "code",
   "execution_count": 30,
   "outputs": [],
   "source": [],
   "metadata": {
    "collapsed": false,
    "ExecuteTime": {
     "end_time": "2023-12-02T12:29:58.056122800Z",
     "start_time": "2023-12-02T12:29:58.013122700Z"
    }
   },
   "id": "3990424135a8212"
  },
  {
   "cell_type": "code",
   "execution_count": 30,
   "outputs": [],
   "source": [
    "\n"
   ],
   "metadata": {
    "collapsed": false,
    "ExecuteTime": {
     "end_time": "2023-12-02T12:29:58.089123300Z",
     "start_time": "2023-12-02T12:29:58.029123400Z"
    }
   },
   "id": "791018668ec65e3d"
  },
  {
   "cell_type": "code",
   "execution_count": 30,
   "outputs": [],
   "source": [],
   "metadata": {
    "collapsed": false,
    "ExecuteTime": {
     "end_time": "2023-12-02T12:29:58.121125200Z",
     "start_time": "2023-12-02T12:29:58.045123Z"
    }
   },
   "id": "af8c79efaf028240"
  },
  {
   "cell_type": "code",
   "execution_count": 30,
   "outputs": [],
   "source": [],
   "metadata": {
    "collapsed": false,
    "ExecuteTime": {
     "end_time": "2023-12-02T12:29:58.147123900Z",
     "start_time": "2023-12-02T12:29:58.061124200Z"
    }
   },
   "id": "34a9bed448fbcf88"
  },
  {
   "cell_type": "code",
   "execution_count": 30,
   "outputs": [],
   "source": [],
   "metadata": {
    "collapsed": false,
    "ExecuteTime": {
     "end_time": "2023-12-02T12:29:58.153122700Z",
     "start_time": "2023-12-02T12:29:58.076123800Z"
    }
   },
   "id": "bc185acf4a8e6ab2"
  }
 ],
 "metadata": {
  "kernelspec": {
   "display_name": "Python 3",
   "language": "python",
   "name": "python3"
  },
  "language_info": {
   "codemirror_mode": {
    "name": "ipython",
    "version": 2
   },
   "file_extension": ".py",
   "mimetype": "text/x-python",
   "name": "python",
   "nbconvert_exporter": "python",
   "pygments_lexer": "ipython2",
   "version": "2.7.6"
  }
 },
 "nbformat": 4,
 "nbformat_minor": 5
}
